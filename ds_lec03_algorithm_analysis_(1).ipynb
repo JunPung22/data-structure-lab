{
  "nbformat": 4,
  "nbformat_minor": 0,
  "metadata": {
    "colab": {
      "provenance": [],
      "toc_visible": true,
      "include_colab_link": true
    },
    "kernelspec": {
      "name": "python3",
      "display_name": "Python 3"
    },
    "language_info": {
      "name": "python"
    }
  },
  "cells": [
    {
      "cell_type": "markdown",
      "metadata": {
        "id": "view-in-github",
        "colab_type": "text"
      },
      "source": [
        "<a href=\"https://colab.research.google.com/github/JunPung22/data-structure-lab/blob/master/ds_lec03_algorithm_analysis_(1).ipynb\" target=\"_parent\"><img src=\"https://colab.research.google.com/assets/colab-badge.svg\" alt=\"Open In Colab\"/></a>"
      ]
    },
    {
      "cell_type": "markdown",
      "source": [
        "> ### Data Structures & Programming Basics\n",
        "\n",
        "# Lecture03: Algorithm Analysis"
      ],
      "metadata": {
        "id": "YKk-ap7mRiIY"
      }
    },
    {
      "cell_type": "markdown",
      "source": [
        "##1. Insertion and Time"
      ],
      "metadata": {
        "id": "DN6n4qcATClI"
      }
    },
    {
      "cell_type": "code",
      "execution_count": null,
      "metadata": {
        "id": "uqsSntWCQbwv"
      },
      "outputs": [],
      "source": [
        "def contains(bag, e) :\n",
        "    return e in bag\n",
        "\n",
        "def insert(bag, e) :\n",
        "    bag.append(e)\n",
        "\n",
        "def insert_first(bag, e) :\n",
        "    bag.insert(0, e)\n",
        "\n",
        "def remove(bag, e) :\n",
        "    bag.remove(e)\n",
        "\n",
        "def count(bag):\n",
        "    return len(bag)"
      ]
    },
    {
      "cell_type": "code",
      "execution_count": null,
      "metadata": {
        "id": "IKZDKxPMQbww",
        "outputId": "eca72216-631e-4871-91fd-ed9b96c61e34",
        "colab": {
          "base_uri": "https://localhost:8080/"
        }
      },
      "outputs": [
        {
          "output_type": "stream",
          "name": "stdout",
          "text": [
            "가방속의 물건: ['휴대폰', '지갑', '손수건', '빗', '자료구조', '야구공']\n",
            "가방속의 물건: ['휴대폰', '지갑', '빗', '자료구조', '야구공', '빗']\n"
          ]
        }
      ],
      "source": [
        "myBag = []\n",
        "insert(myBag, '휴대폰')\n",
        "insert(myBag, '지갑')\n",
        "insert(myBag, '손수건')\n",
        "insert(myBag, '빗')\n",
        "insert(myBag, '자료구조')\n",
        "insert(myBag, '야구공')\n",
        "print('가방속의 물건:', myBag)\n",
        "\n",
        "insert(myBag, '빗')\n",
        "remove(myBag, '손수건')\n",
        "print('가방속의 물건:', myBag)"
      ]
    },
    {
      "cell_type": "markdown",
      "metadata": {
        "id": "TuKHswVnQbww"
      },
      "source": [
        "### Time module\n"
      ]
    },
    {
      "cell_type": "code",
      "execution_count": null,
      "metadata": {
        "id": "f0veI68WQbww"
      },
      "outputs": [],
      "source": [
        "import time\n",
        "\n",
        "myBag = []\n",
        "start = time.time()\n",
        "for i in range(10000):\n",
        "    insert_first(myBag, '펜')\n",
        "end = time.time()"
      ]
    },
    {
      "cell_type": "code",
      "execution_count": null,
      "metadata": {
        "id": "_ZTbFg8NQbww",
        "outputId": "01b0bf23-9871-4d4f-f577-bd71786425f9",
        "colab": {
          "base_uri": "https://localhost:8080/"
        }
      },
      "outputs": [
        {
          "output_type": "execute_result",
          "data": {
            "text/plain": [
              "1711506105.2122095"
            ]
          },
          "metadata": {},
          "execution_count": 5
        }
      ],
      "source": [
        "start"
      ]
    },
    {
      "cell_type": "code",
      "execution_count": null,
      "metadata": {
        "id": "Z-nqNcFRQbww",
        "outputId": "dff47040-20f0-4ddd-8df5-fce4babba43f",
        "colab": {
          "base_uri": "https://localhost:8080/"
        }
      },
      "outputs": [
        {
          "output_type": "execute_result",
          "data": {
            "text/plain": [
              "1711506105.2426283"
            ]
          },
          "metadata": {},
          "execution_count": 6
        }
      ],
      "source": [
        "end"
      ]
    },
    {
      "cell_type": "code",
      "execution_count": null,
      "metadata": {
        "id": "b9pvGxQuQbww",
        "outputId": "55bd5096-17c4-4612-ed1d-99aee566a910",
        "colab": {
          "base_uri": "https://localhost:8080/"
        }
      },
      "outputs": [
        {
          "output_type": "stream",
          "name": "stdout",
          "text": [
            "running time :  0.0304189 seconds\n"
          ]
        }
      ],
      "source": [
        "print(\"running time : %10.7f seconds\" % (end - start))"
      ]
    },
    {
      "cell_type": "code",
      "execution_count": null,
      "metadata": {
        "id": "4LAqftPiQbww"
      },
      "outputs": [],
      "source": [
        "myBag = []\n",
        "start = time.time()\n",
        "for i in range(10000):\n",
        "    insert(myBag, '펜')\n",
        "end = time.time()"
      ]
    },
    {
      "cell_type": "code",
      "execution_count": null,
      "metadata": {
        "id": "tyHoHvMEQbwx",
        "outputId": "fc3c8b42-990d-48e9-fc47-d19d851046b5",
        "colab": {
          "base_uri": "https://localhost:8080/"
        }
      },
      "outputs": [
        {
          "output_type": "execute_result",
          "data": {
            "text/plain": [
              "1711506122.4125347"
            ]
          },
          "metadata": {},
          "execution_count": 9
        }
      ],
      "source": [
        "start"
      ]
    },
    {
      "cell_type": "code",
      "execution_count": null,
      "metadata": {
        "id": "qz1mbuWeQbwx",
        "outputId": "3d3f7508-4ca0-458e-9742-959ae34299c3",
        "colab": {
          "base_uri": "https://localhost:8080/"
        }
      },
      "outputs": [
        {
          "output_type": "execute_result",
          "data": {
            "text/plain": [
              "1711506122.417139"
            ]
          },
          "metadata": {},
          "execution_count": 10
        }
      ],
      "source": [
        "end"
      ]
    },
    {
      "cell_type": "code",
      "execution_count": null,
      "metadata": {
        "id": "Cuw94_3kQbwy",
        "outputId": "ce434f88-3c6f-49ae-b31b-546458c1d056",
        "colab": {
          "base_uri": "https://localhost:8080/"
        }
      },
      "outputs": [
        {
          "output_type": "stream",
          "name": "stdout",
          "text": [
            "running time :  0.0046043 seconds\n"
          ]
        }
      ],
      "source": [
        "print(\"running time : %10.7f seconds\" % (end - start))"
      ]
    },
    {
      "cell_type": "markdown",
      "metadata": {
        "id": "hlkN53GPQbvY"
      },
      "source": [
        "\n",
        "## 2. What Is Algorithm Analysis?"
      ]
    },
    {
      "cell_type": "markdown",
      "source": [
        "* 1~n까지의 Sum을 구하는 함수"
      ],
      "metadata": {
        "id": "mrbI8JeSnId4"
      }
    },
    {
      "cell_type": "code",
      "execution_count": null,
      "metadata": {
        "id": "GWzzBp1HQbvY"
      },
      "outputs": [],
      "source": [
        "def sum_of_n(n):\n",
        "    the_sum = 0\n",
        "    for i in range(1,n+1):\n",
        "        the_sum = the_sum + i\n",
        "    return the_sum"
      ]
    },
    {
      "cell_type": "code",
      "execution_count": null,
      "metadata": {
        "id": "LMWZPaxuQbvZ",
        "colab": {
          "base_uri": "https://localhost:8080/"
        },
        "outputId": "32959375-87c8-422c-9bc3-f57f802a541a"
      },
      "outputs": [
        {
          "output_type": "stream",
          "name": "stdout",
          "text": [
            "55\n"
          ]
        }
      ],
      "source": [
        "print(sum_of_n(10))"
      ]
    },
    {
      "cell_type": "markdown",
      "source": [
        "* 같은 기능을 수행하는 함수이지만 이해하기 어려운 변수명, 추가적인 할당"
      ],
      "metadata": {
        "id": "mVmzYyrunWQ3"
      }
    },
    {
      "cell_type": "code",
      "execution_count": null,
      "metadata": {
        "id": "OGMjWztBQbvZ"
      },
      "outputs": [],
      "source": [
        "def foo(tom):\n",
        "    fred = 0\n",
        "    for bill in range(1, tom+1):\n",
        "        barney = bill\n",
        "        fred = fred + barney\n",
        "    return fred"
      ]
    },
    {
      "cell_type": "code",
      "execution_count": null,
      "metadata": {
        "id": "u8EUO-qDQbvZ",
        "colab": {
          "base_uri": "https://localhost:8080/"
        },
        "outputId": "41c131b3-c75a-4cf0-e84b-698ecfe2dd9e"
      },
      "outputs": [
        {
          "output_type": "stream",
          "name": "stdout",
          "text": [
            "55\n"
          ]
        }
      ],
      "source": [
        "print(foo(10))"
      ]
    },
    {
      "cell_type": "code",
      "execution_count": null,
      "metadata": {
        "id": "HJhIIy1PQbvZ"
      },
      "outputs": [],
      "source": [
        "import time\n",
        "\n",
        "def sum_of_n_2(n):\n",
        "    start = time.time()\n",
        "    the_sum = 0\n",
        "\n",
        "    for i in range(1, n+1):\n",
        "        the_sum = the_sum + i\n",
        "    end = time.time()\n",
        "\n",
        "    return the_sum, end - start"
      ]
    },
    {
      "cell_type": "code",
      "execution_count": null,
      "metadata": {
        "id": "oYQQI8RZQbvZ",
        "colab": {
          "base_uri": "https://localhost:8080/"
        },
        "outputId": "f987dfb3-196f-4776-902f-59a3c57f95a0"
      },
      "outputs": [
        {
          "output_type": "stream",
          "name": "stdout",
          "text": [
            "Sum is 50005000 required  0.0011048 seconds\n",
            "Sum is 50005000 required  0.0010779 seconds\n",
            "Sum is 50005000 required  0.0011699 seconds\n",
            "Sum is 50005000 required  0.0010076 seconds\n",
            "Sum is 50005000 required  0.0008907 seconds\n"
          ]
        }
      ],
      "source": [
        "for i in range(5):\n",
        "    print(\"Sum is %d required %10.7f seconds\" % sum_of_n_2(10000))"
      ]
    },
    {
      "cell_type": "code",
      "execution_count": null,
      "metadata": {
        "id": "UTF88DcNQbvZ",
        "colab": {
          "base_uri": "https://localhost:8080/"
        },
        "outputId": "b0d831dc-c100-4f22-bc12-aa3f9a2f90f8"
      },
      "outputs": [
        {
          "output_type": "stream",
          "name": "stdout",
          "text": [
            "Sum is 500000500000 required  0.0717092 seconds\n",
            "Sum is 500000500000 required  0.0650809 seconds\n",
            "Sum is 500000500000 required  0.0677679 seconds\n",
            "Sum is 500000500000 required  0.0660908 seconds\n",
            "Sum is 500000500000 required  0.0705824 seconds\n"
          ]
        }
      ],
      "source": [
        "for i in range(5):\n",
        "    print(\"Sum is %d required %10.7f seconds\" % sum_of_n_2(1000000))"
      ]
    },
    {
      "cell_type": "code",
      "execution_count": null,
      "metadata": {
        "id": "gJthW1UOQbvZ"
      },
      "outputs": [],
      "source": [
        "def sum_of_n_3(n):\n",
        "    return (n * (n + 1)) / 2"
      ]
    },
    {
      "cell_type": "code",
      "execution_count": null,
      "metadata": {
        "id": "F888shraQbvZ",
        "colab": {
          "base_uri": "https://localhost:8080/"
        },
        "outputId": "e2495cf9-0aef-40df-ba53-3a6d56c37e5e"
      },
      "outputs": [
        {
          "output_type": "stream",
          "name": "stdout",
          "text": [
            "55.0\n"
          ]
        }
      ],
      "source": [
        "print(sum_of_n_3(10))"
      ]
    },
    {
      "cell_type": "code",
      "execution_count": null,
      "metadata": {
        "id": "XCRuza0EQbvZ"
      },
      "outputs": [],
      "source": [
        "def sum_of_n_3(n):\n",
        "    start = time.time()\n",
        "    the_sum = (n * (n + 1)) / 2\n",
        "    end = time.time()\n",
        "\n",
        "    return the_sum, end - start"
      ]
    },
    {
      "cell_type": "code",
      "execution_count": null,
      "metadata": {
        "id": "-zQ62qguQbva",
        "colab": {
          "base_uri": "https://localhost:8080/"
        },
        "outputId": "492e16f4-c3a8-4436-c21c-7e879f00fa43"
      },
      "outputs": [
        {
          "output_type": "stream",
          "name": "stdout",
          "text": [
            "Sum is 5000050000 required  0.0000007 seconds\n",
            "Sum is 500000500000 required  0.0000007 seconds\n",
            "Sum is 50000005000000 required  0.0000002 seconds\n",
            "Sum is 5000000050000000 required  0.0000014 seconds\n",
            "Sum is 500000000500000000 required  0.0000005 seconds\n"
          ]
        }
      ],
      "source": [
        "for i in range(5):\n",
        "    print(\"Sum is %d required %10.7f seconds\" % sum_of_n_3(10000 * (10 ** (i+1))))"
      ]
    },
    {
      "cell_type": "markdown",
      "metadata": {
        "id": "Ppm3Ck6pRFxd"
      },
      "source": [
        "## 3. Big-$\\mathcal{O}$ Notation"
      ]
    },
    {
      "cell_type": "markdown",
      "source": [
        "###p.23 Example"
      ],
      "metadata": {
        "id": "xjxlqtTvUTDP"
      }
    },
    {
      "cell_type": "code",
      "execution_count": null,
      "metadata": {
        "id": "0eOZF2-NRFxd"
      },
      "outputs": [],
      "source": [
        "def sum_quad(n):\n",
        "    partialSum = 0\n",
        "    for i in range(n):\n",
        "        partialSum += i*i*i\n",
        "    return partialSum"
      ]
    },
    {
      "cell_type": "code",
      "execution_count": null,
      "metadata": {
        "id": "o0ucBJZ3RFxe",
        "outputId": "c8b89072-c49e-4370-8c60-d4b16917b1b9"
      },
      "outputs": [
        {
          "data": {
            "text/plain": [
              "100"
            ]
          },
          "execution_count": 2,
          "metadata": {},
          "output_type": "execute_result"
        }
      ],
      "source": [
        "sum_quad(5)"
      ]
    },
    {
      "cell_type": "markdown",
      "metadata": {
        "id": "h-ZifLFMRFxe"
      },
      "source": [
        "### Rule 2"
      ]
    },
    {
      "cell_type": "code",
      "execution_count": null,
      "metadata": {
        "id": "weTk0vauRFxf",
        "outputId": "f31f0c32-0b83-4e53-8a2a-87e533fc8aeb",
        "colab": {
          "base_uri": "https://localhost:8080/"
        }
      },
      "outputs": [
        {
          "output_type": "stream",
          "name": "stdout",
          "text": [
            "4000\n"
          ]
        }
      ],
      "source": [
        "N = 100\n",
        "M = 40\n",
        "k = 0\n",
        "for i in range(N):\n",
        "    for j in range(M):\n",
        "        k += 1\n",
        "\n",
        "print(k)"
      ]
    },
    {
      "cell_type": "markdown",
      "metadata": {
        "id": "fBWjVRYIRFxf"
      },
      "source": [
        "### Rule 3"
      ]
    },
    {
      "cell_type": "code",
      "execution_count": null,
      "metadata": {
        "id": "QuoRIbPjRFxf",
        "outputId": "1a3af683-8339-4a11-9277-a02e56827a12",
        "colab": {
          "base_uri": "https://localhost:8080/"
        }
      },
      "outputs": [
        {
          "output_type": "stream",
          "name": "stdout",
          "text": [
            "978\n"
          ]
        }
      ],
      "source": [
        "N = 100\n",
        "M = 40\n",
        "k = 0\n",
        "for i in range(N):\n",
        "    for j in range(N):\n",
        "        k = i + j\n",
        "for i in range(M):\n",
        "    k += i\n",
        "\n",
        "print(k)\n"
      ]
    },
    {
      "cell_type": "markdown",
      "metadata": {
        "id": "v0JGi3UJRFxf"
      },
      "source": [
        "### Rule 4"
      ]
    },
    {
      "cell_type": "code",
      "execution_count": null,
      "metadata": {
        "id": "AHwoDArSRFxf",
        "outputId": "14707617-72f8-4895-f19a-752c77690360",
        "colab": {
          "base_uri": "https://localhost:8080/"
        }
      },
      "outputs": [
        {
          "output_type": "stream",
          "name": "stdout",
          "text": [
            "score : 50\n",
            "score : 29\n",
            "score : 59\n",
            "score : 80\n",
            "score : 99\n",
            "score : 100\n"
          ]
        }
      ],
      "source": [
        "score = [50, 29, 59, 80, 99, 100]\n",
        "\n",
        "if len(score) > 5:\n",
        "    for i in score:\n",
        "        print(\"score : %d\" % i)\n",
        "else:\n",
        "    print(\"not enough scores\")\n"
      ]
    },
    {
      "cell_type": "markdown",
      "metadata": {
        "id": "sWWMOa6yRFxf"
      },
      "source": [
        "### p.31 순환 Recursive"
      ]
    },
    {
      "cell_type": "markdown",
      "metadata": {
        "id": "GA8Q1UxmRFxf"
      },
      "source": [
        "* factorial"
      ]
    },
    {
      "cell_type": "code",
      "execution_count": null,
      "metadata": {
        "id": "ubWAl6ThRFxf"
      },
      "outputs": [],
      "source": [
        "def factorial(n):\n",
        "    if n==1:\n",
        "        return 1\n",
        "    else:\n",
        "        return n*factorial(n-1)"
      ]
    },
    {
      "cell_type": "code",
      "execution_count": null,
      "metadata": {
        "id": "pVTrqxGgRFxg",
        "outputId": "5e6c7f30-8d1c-4778-cf16-5db609156c54",
        "colab": {
          "base_uri": "https://localhost:8080/"
        }
      },
      "outputs": [
        {
          "output_type": "stream",
          "name": "stdout",
          "text": [
            "3628800\n"
          ]
        }
      ],
      "source": [
        "print(factorial(10))"
      ]
    },
    {
      "cell_type": "code",
      "execution_count": null,
      "metadata": {
        "id": "QmL-LqftRFxg"
      },
      "outputs": [],
      "source": [
        "def factorial2(n):\n",
        "    result = 1\n",
        "    for k in range(n,0,-1):\n",
        "        result = result * k\n",
        "    return result"
      ]
    },
    {
      "cell_type": "code",
      "execution_count": null,
      "metadata": {
        "id": "qeiuSt6ARFxg",
        "outputId": "ccf01140-60a9-41ce-a8a3-0d34df1cfa49",
        "colab": {
          "base_uri": "https://localhost:8080/"
        }
      },
      "outputs": [
        {
          "output_type": "stream",
          "name": "stdout",
          "text": [
            "3628800\n"
          ]
        }
      ],
      "source": [
        "print(factorial2(10))"
      ]
    },
    {
      "cell_type": "markdown",
      "metadata": {
        "id": "GLsUHJ2KRFxg"
      },
      "source": [
        "* 거듭제곱"
      ]
    },
    {
      "cell_type": "code",
      "execution_count": null,
      "metadata": {
        "id": "0B2bueEKRFxg"
      },
      "outputs": [],
      "source": [
        "import math as m"
      ]
    },
    {
      "cell_type": "code",
      "execution_count": null,
      "metadata": {
        "id": "4y9VEGQmRFxg",
        "outputId": "b6b3719f-32e1-44fe-91c8-31b8eedcc92d",
        "colab": {
          "base_uri": "https://localhost:8080/"
        }
      },
      "outputs": [
        {
          "output_type": "execute_result",
          "data": {
            "text/plain": [
              "8.0"
            ]
          },
          "metadata": {},
          "execution_count": 33
        }
      ],
      "source": [
        "m.pow(2,3)"
      ]
    },
    {
      "cell_type": "code",
      "execution_count": null,
      "metadata": {
        "id": "rtjMT_p7RFxg"
      },
      "outputs": [],
      "source": [
        "def power_iter(x,n):\n",
        "    result = 1.0\n",
        "    for i in range(n):\n",
        "        result = result * x\n",
        "    return result"
      ]
    },
    {
      "cell_type": "code",
      "execution_count": null,
      "metadata": {
        "id": "ak5Z_uPfRFxg",
        "outputId": "bae8708d-0bb0-40d1-e54b-c07db4149b38",
        "colab": {
          "base_uri": "https://localhost:8080/"
        }
      },
      "outputs": [
        {
          "output_type": "stream",
          "name": "stdout",
          "text": [
            "8.0\n"
          ]
        }
      ],
      "source": [
        "print(power_iter(2,3))"
      ]
    },
    {
      "cell_type": "code",
      "execution_count": null,
      "metadata": {
        "id": "8rn7tVW0RFxg"
      },
      "outputs": [],
      "source": [
        "def power_recur(x,n):\n",
        "    if n == 0:\n",
        "      return 1\n",
        "    elif (n % 2) == 0:\n",
        "      return power_recur(x*x, n//2)\n",
        "    else:\n",
        "      return x*power_recur(x*x, (n-1)//2)"
      ]
    },
    {
      "cell_type": "code",
      "execution_count": null,
      "metadata": {
        "id": "WR0jPi_WRFxg",
        "outputId": "5cb7bf6c-7bb0-4297-fad3-9f5aa8654ba5",
        "colab": {
          "base_uri": "https://localhost:8080/"
        }
      },
      "outputs": [
        {
          "output_type": "stream",
          "name": "stdout",
          "text": [
            "8\n"
          ]
        }
      ],
      "source": [
        "print(power_recur(2,3))"
      ]
    },
    {
      "cell_type": "markdown",
      "metadata": {
        "id": "PnlzLq9YRFxg"
      },
      "source": [
        "* p.36 피보나치 수열"
      ]
    },
    {
      "cell_type": "code",
      "execution_count": null,
      "metadata": {
        "id": "Diujr2B4RFxg"
      },
      "outputs": [],
      "source": [
        "import time"
      ]
    },
    {
      "cell_type": "code",
      "execution_count": null,
      "metadata": {
        "id": "3y4SG5ZQRFxh",
        "outputId": "3789c540-04ad-4089-b3bb-5eabe139c091"
      },
      "outputs": [
        {
          "name": "stdout",
          "output_type": "stream",
          "text": [
            "55\n"
          ]
        }
      ],
      "source": [
        "def fib(n):\n",
        "    if n == 0:\n",
        "        return 0\n",
        "    elif n == 1 or n == 2:\n",
        "        return 1\n",
        "    else:\n",
        "        return fib(n - 1) + fib(n - 2)\n",
        "\n",
        "n = int(input(\"숫자를 입력하세요.\"))\n",
        "\n",
        "start = time.time()\n",
        "print(fib(n))\n",
        "end = time.time()"
      ]
    },
    {
      "cell_type": "code",
      "execution_count": null,
      "metadata": {
        "id": "dCBqb8Y3RFxh",
        "outputId": "e458b5a1-f3c8-48aa-f59c-1ea9aa87f351"
      },
      "outputs": [
        {
          "data": {
            "text/plain": [
              "1650347906.8174057"
            ]
          },
          "execution_count": 18,
          "metadata": {},
          "output_type": "execute_result"
        }
      ],
      "source": [
        "start"
      ]
    },
    {
      "cell_type": "code",
      "execution_count": null,
      "metadata": {
        "id": "QV_3Yi1xRFxh",
        "outputId": "6a79910a-d753-4e8b-9844-384d693c2e6d"
      },
      "outputs": [
        {
          "data": {
            "text/plain": [
              "1650347906.8174057"
            ]
          },
          "execution_count": 19,
          "metadata": {},
          "output_type": "execute_result"
        }
      ],
      "source": [
        "end"
      ]
    },
    {
      "cell_type": "code",
      "execution_count": null,
      "metadata": {
        "id": "Im63HtfsRFxh",
        "outputId": "a5fa9462-b43e-49e2-9cce-d2174ff0589f"
      },
      "outputs": [
        {
          "name": "stdout",
          "output_type": "stream",
          "text": [
            "running time :  0.0000000 seconds\n"
          ]
        }
      ],
      "source": [
        "print(\"running time : %10.7f seconds\" % (end - start))"
      ]
    },
    {
      "cell_type": "code",
      "execution_count": null,
      "metadata": {
        "id": "xiQtUm-yRFxh",
        "outputId": "8a5186a8-f63c-49c2-e61d-75109e3297eb"
      },
      "outputs": [
        {
          "name": "stdout",
          "output_type": "stream",
          "text": [
            "6765\n"
          ]
        }
      ],
      "source": [
        "def fib_iter(n):\n",
        "    if (n < 2):\n",
        "        return n\n",
        "    last = 0\n",
        "    current = 1\n",
        "    for i in range(2, n+1):\n",
        "        tmp = current\n",
        "        current += last\n",
        "        last = tmp\n",
        "    return current\n",
        "\n",
        "n = int(input(\"숫자를 입력하세요.\"))\n",
        "start = time.time()\n",
        "print(fib_iter(n))\n",
        "end = time.time()"
      ]
    },
    {
      "cell_type": "code",
      "execution_count": null,
      "metadata": {
        "id": "UoBRLBWJRFxh",
        "outputId": "4e23fb5b-1f10-476a-fe9b-e1bde95761b0"
      },
      "outputs": [
        {
          "data": {
            "text/plain": [
              "1650347934.4749465"
            ]
          },
          "execution_count": 26,
          "metadata": {},
          "output_type": "execute_result"
        }
      ],
      "source": [
        "start"
      ]
    },
    {
      "cell_type": "code",
      "execution_count": null,
      "metadata": {
        "id": "5_ZyoHrvRFxh",
        "outputId": "78979a42-a2a3-4b0c-9dbf-c7b957052ac1"
      },
      "outputs": [
        {
          "data": {
            "text/plain": [
              "1650347934.4749465"
            ]
          },
          "execution_count": 27,
          "metadata": {},
          "output_type": "execute_result"
        }
      ],
      "source": [
        "end"
      ]
    },
    {
      "cell_type": "code",
      "execution_count": null,
      "metadata": {
        "id": "lbyemPv5RFxh",
        "outputId": "f366d270-b0f2-47ba-c94f-fb60b92bde7e"
      },
      "outputs": [
        {
          "name": "stdout",
          "output_type": "stream",
          "text": [
            "running time :  0.0000000 seconds\n"
          ]
        }
      ],
      "source": [
        "print(\"running time : %10.7f seconds\" % (end - start))"
      ]
    }
  ]
}